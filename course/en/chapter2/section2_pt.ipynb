{
  "cells": [
    {
      "cell_type": "markdown",
      "metadata": {
        "id": "INKItZCsTc95"
      },
      "source": [
        "# Behind the pipeline (PyTorch)"
      ]
    },
    {
      "cell_type": "markdown",
      "source": [],
      "metadata": {
        "id": "18F4N_oqTym_"
      }
    },
    {
      "cell_type": "markdown",
      "metadata": {
        "id": "Xas08fuPTc97"
      },
      "source": [
        "Install the Transformers, Datasets, and Evaluate libraries to run this notebook."
      ]
    },
    {
      "cell_type": "code",
      "execution_count": null,
      "metadata": {
        "id": "JfyUeO7YTc97"
      },
      "outputs": [],
      "source": [
        "!pip install datasets evaluate transformers[sentencepiece]"
      ]
    },
    {
      "cell_type": "code",
      "execution_count": null,
      "metadata": {
        "id": "mOKoDHiPTc98",
        "outputId": "134f65a9-3c4d-4605-f44c-c0fc6824e0b6"
      },
      "outputs": [
        {
          "data": {
            "text/plain": [
              "[{'label': 'POSITIVE', 'score': 0.9598047137260437},\n",
              " {'label': 'NEGATIVE', 'score': 0.9994558095932007}]"
            ]
          },
          "execution_count": null,
          "metadata": {},
          "output_type": "execute_result"
        }
      ],
      "source": [
        "from transformers import pipeline\n",
        "\n",
        "classifier = pipeline(\"sentiment-analysis\")\n",
        "classifier(\n",
        "    [\n",
        "        \"I've been waiting for a HuggingFace course my whole life.\",\n",
        "        \"I hate this so much!\",\n",
        "    ]\n",
        ")"
      ]
    },
    {
      "cell_type": "code",
      "source": [
        "from transformers import AutoTokenizer, AutoModelForSequenceClassification\n",
        "\n",
        "checkpoint = \"distilbert-base-uncased-finetuned-sst-2-english\"\n",
        "tokenizer = AutoTokenizer.from_pretrained(checkpoint)\n",
        "model = AutoModelForSequenceClassficiation.from_pretrained(checkpoint)\n",
        "\n",
        "raw_inputs = [\"I've been waiting for a HuggingFace course my whole life.\", \"I hate this so much!\",]\n",
        "inputs = tokenizer(raw_inputs, padding = True, truncation=True, return_tensors=\"pt\")\n",
        "outputs = model(**inputs)\n",
        "\n",
        "predictions = torch.nn.functional.softmax(outputs.logits, dim = -1)\n",
        "print(predictions)"
      ],
      "metadata": {
        "id": "RlpBL7VTUPUC"
      },
      "execution_count": null,
      "outputs": []
    }
  ],
  "metadata": {
    "colab": {
      "name": "Behind the pipeline (PyTorch)",
      "provenance": []
    }
  },
  "nbformat": 4,
  "nbformat_minor": 0
}